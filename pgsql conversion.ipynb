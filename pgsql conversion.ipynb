{
 "cells": [
  {
   "cell_type": "code",
   "execution_count": 1,
   "metadata": {},
   "outputs": [],
   "source": [
    "from flask import render_template, jsonify, request\n",
    "from app import app\n",
    "from app.models import Airline, Airport, AirportGEO, Origin, Destination, BTS_Record as R\n",
    "from app.forms import RouteForm\n",
    "from sqlalchemy import or_, and_, func, cast, Float"
   ]
  },
  {
   "cell_type": "code",
   "execution_count": null,
   "metadata": {},
   "outputs": [],
   "source": []
  },
  {
   "cell_type": "code",
   "execution_count": null,
   "metadata": {},
   "outputs": [],
   "source": [
    "\trecords = R.query\\\n",
    "\t\t\t\t.filter_by(airline_id = airline)\\\n",
    "\t\t\t\t.filter(R.departures > 1)\\\n",
    "\t\t\t\t.filter(R.passengers > 10)\\\n",
    "\t\t\t\t.join(Origin, R.origin)\\\n",
    "\t\t\t\t.group_by(R.id, Origin.id)\\\n",
    "\t\t\t\t.order_by(Origin.city_name)\\\n",
    "\t\t\t\t.all()"
   ]
  },
  {
   "cell_type": "code",
   "execution_count": null,
   "metadata": {},
   "outputs": [],
   "source": [
    "records"
   ]
  },
  {
   "cell_type": "code",
   "execution_count": null,
   "metadata": {},
   "outputs": [],
   "source": [
    "[record.id for record in records]"
   ]
  },
  {
   "cell_type": "code",
   "execution_count": null,
   "metadata": {},
   "outputs": [],
   "source": []
  },
  {
   "cell_type": "code",
   "execution_count": null,
   "metadata": {},
   "outputs": [],
   "source": []
  },
  {
   "cell_type": "code",
   "execution_count": null,
   "metadata": {},
   "outputs": [],
   "source": [
    "airline = 1\n",
    "\n",
    "output = R.query\\\n",
    "\t\t\t\t.filter_by(airline_id = airline)\\\n",
    "\t\t\t\t.filter(R.departures > 0)\\\n",
    "\t\t\t\t.filter(R.passengers > 10)\\\n",
    "                .distinct(R.origin_id)\\\n",
    "                .join(R.origin)\\\n",
    "                .all()"
   ]
  },
  {
   "cell_type": "code",
   "execution_count": null,
   "metadata": {},
   "outputs": [],
   "source": [
    "[item.origin.id for item in output]"
   ]
  },
  {
   "cell_type": "code",
   "execution_count": null,
   "metadata": {},
   "outputs": [],
   "source": [
    "[item.origin.code for item in output]"
   ]
  },
  {
   "cell_type": "code",
   "execution_count": null,
   "metadata": {},
   "outputs": [],
   "source": [
    "airline = 1\n",
    "origin = 6\n",
    "\n",
    "output = R.query\\\n",
    "\t\t\t\t.filter_by(airline_id = airline)\\\n",
    "                .filter_by(origin_id = origin)\\\n",
    "\t\t\t\t.filter(R.departures > 0)\\\n",
    "\t\t\t\t.filter(R.passengers > 1)\\\n",
    "                .distinct(R.dest_id)\\\n",
    "                .join(R.dest)\\\n",
    "                .all()"
   ]
  },
  {
   "cell_type": "code",
   "execution_count": null,
   "metadata": {},
   "outputs": [],
   "source": [
    "[item.dest.code for item in output]"
   ]
  },
  {
   "cell_type": "code",
   "execution_count": null,
   "metadata": {},
   "outputs": [],
   "source": [
    "airline = 1\n",
    "origin = 2\n",
    "destination = 5\n",
    "\n",
    "records = R.query\\\n",
    "            .filter_by(airline_id = airline)\\\n",
    "            .filter_by(origin_id = origin)\\\n",
    "            .filter_by(dest_id = destination)\\\n",
    "            .distinct(R.year)\\\n",
    "            .order_by(R.year)\\\n",
    "            .all()"
   ]
  },
  {
   "cell_type": "code",
   "execution_count": null,
   "metadata": {},
   "outputs": [],
   "source": [
    "[item.year for item in records]"
   ]
  },
  {
   "cell_type": "code",
   "execution_count": 4,
   "metadata": {},
   "outputs": [],
   "source": [
    "airline_id = 1\n",
    "origin_id = 2\n",
    "destination_id = 5\n",
    "year = 2017\n",
    "\n",
    "table_data = R.query\\\n",
    "                        .with_entities(Origin.code, Destination.code, Airline.carrier, R.month, func.sum(R.departures), func.sum(R.seats), func.sum(R.passengers), func.sum(cast(R.passengers, Float())) / func.sum(cast(R.seats, Float())))\\\n",
    "\t\t\t\t\t\t.filter(R.year == year)\\\n",
    "\t\t\t\t\t\t.filter(R.airline_id == airline_id)\\\n",
    "\t\t\t\t\t\t.filter( or_( and_((R.origin_id == origin_id),(R.dest_id == destination_id)) , and_((R.origin_id == destination_id),(R.dest_id == origin_id)) ) )\\\n",
    "\t\t\t\t\t\t.join(Origin, R.origin)\\\n",
    "\t\t\t\t\t\t.join(Destination, R.dest)\\\n",
    "\t\t\t\t\t\t.join(Airline, R.airline)\\\n",
    "\t\t\t\t\t\t.group_by(Origin.code, Destination.code, Airline.carrier, R.month)\\\n",
    "\t\t\t\t\t\t.order_by(R.month, Origin.code)\\\n",
    "\t\t\t\t\t\t.all()"
   ]
  },
  {
   "cell_type": "code",
   "execution_count": 5,
   "metadata": {},
   "outputs": [
    {
     "data": {
      "text/plain": [
       "[('ORD', 'WAW', 'LO', 1, 28, 7056, 5009, 0.709892290249433),\n",
       " ('WAW', 'ORD', 'LO', 1, 28, 7056, 5877, 0.832908163265306),\n",
       " ('ORD', 'WAW', 'LO', 2, 23, 5796, 3985, 0.687543133195307),\n",
       " ('WAW', 'ORD', 'LO', 2, 23, 5796, 4011, 0.692028985507246),\n",
       " ('ORD', 'WAW', 'LO', 3, 30, 7560, 6179, 0.817328042328042),\n",
       " ('WAW', 'ORD', 'LO', 3, 30, 7560, 6082, 0.804497354497354),\n",
       " ('ORD', 'WAW', 'LO', 4, 30, 7560, 6544, 0.865608465608466),\n",
       " ('WAW', 'ORD', 'LO', 4, 30, 7560, 6514, 0.861640211640212),\n",
       " ('ORD', 'WAW', 'LO', 5, 41, 10332, 9488, 0.91831204026326),\n",
       " ('WAW', 'ORD', 'LO', 5, 41, 10332, 8139, 0.787746806039489),\n",
       " ('ORD', 'WAW', 'LO', 6, 41, 10332, 9911, 0.959252806813782),\n",
       " ('WAW', 'ORD', 'LO', 6, 41, 10332, 8963, 0.867499032133178),\n",
       " ('ORD', 'WAW', 'LO', 7, 51, 12852, 8998, 0.700124494242141),\n",
       " ('WAW', 'ORD', 'LO', 7, 51, 12852, 11223, 0.873249299719888),\n",
       " ('ORD', 'WAW', 'LO', 8, 48, 12096, 8588, 0.709986772486772),\n",
       " ('WAW', 'ORD', 'LO', 8, 48, 12096, 11942, 0.987268518518518),\n",
       " ('ORD', 'WAW', 'LO', 9, 46, 11592, 8300, 0.716011042097999),\n",
       " ('WAW', 'ORD', 'LO', 9, 46, 11592, 10508, 0.906487232574189),\n",
       " ('ORD', 'WAW', 'LO', 10, 45, 11340, 7043, 0.621075837742504),\n",
       " ('WAW', 'ORD', 'LO', 10, 45, 11340, 9626, 0.848853615520282),\n",
       " ('ORD', 'WAW', 'LO', 11, 26, 6552, 5296, 0.808302808302808),\n",
       " ('WAW', 'ORD', 'LO', 11, 26, 6552, 5876, 0.896825396825397),\n",
       " ('ORD', 'WAW', 'LO', 12, 27, 6804, 6336, 0.931216931216931),\n",
       " ('WAW', 'ORD', 'LO', 12, 27, 6804, 5153, 0.75734861845973)]"
      ]
     },
     "execution_count": 5,
     "metadata": {},
     "output_type": "execute_result"
    }
   ],
   "source": [
    "table_data"
   ]
  },
  {
   "cell_type": "code",
   "execution_count": null,
   "metadata": {},
   "outputs": [],
   "source": []
  }
 ],
 "metadata": {
  "kernelspec": {
   "display_name": "Python [conda env:flaskonda]",
   "language": "python",
   "name": "conda-env-flaskonda-py"
  },
  "language_info": {
   "codemirror_mode": {
    "name": "ipython",
    "version": 3
   },
   "file_extension": ".py",
   "mimetype": "text/x-python",
   "name": "python",
   "nbconvert_exporter": "python",
   "pygments_lexer": "ipython3",
   "version": "3.6.6"
  }
 },
 "nbformat": 4,
 "nbformat_minor": 2
}
