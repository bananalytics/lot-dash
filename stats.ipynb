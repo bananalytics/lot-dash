{
 "cells": [
  {
   "cell_type": "code",
   "execution_count": 36,
   "metadata": {},
   "outputs": [],
   "source": [
    "from app.models import Airport, AirportGEO, Origin, Destination, Airline, BTS_Record as R\n",
    "from sqlalchemy import func, or_, and_, Float, String"
   ]
  },
  {
   "cell_type": "code",
   "execution_count": 37,
   "metadata": {},
   "outputs": [],
   "source": [
    "year = 2017\n",
    "airline_id = 1\n",
    "origin_id = 3\n",
    "destination_id = 5"
   ]
  },
  {
   "cell_type": "code",
   "execution_count": 38,
   "metadata": {},
   "outputs": [],
   "source": [
    "pax = R.query\\\n",
    "\t\t\t\t\t\t.filter(R.airline_id == airline_id)\\\n",
    "\t\t\t\t\t\t.filter( and_((R.origin_id == origin_id),(R.dest_id == destination_id)) )\\\n",
    "\t\t\t\t\t\t.with_entities(func.sum(R.passengers))\\\n",
    "\t\t\t\t\t\t.group_by(R.month)\\\n",
    "\t\t\t\t\t\t.order_by(R.month).all()\n",
    "\n",
    "paxreverse = R.query\\\n",
    "\t\t\t\t\t\t.filter(R.airline_id == airline_id)\\\n",
    "\t\t\t\t\t\t.filter( and_((R.origin_id == destination_id),(R.dest_id == origin_id)) )\\\n",
    "\t\t\t\t\t\t.with_entities(func.sum(R.passengers))\\\n",
    "\t\t\t\t\t\t.group_by(R.month)\\\n",
    "\t\t\t\t\t\t.order_by(R.month).all()"
   ]
  },
  {
   "cell_type": "code",
   "execution_count": 39,
   "metadata": {},
   "outputs": [],
   "source": [
    "\t\tseats = R.query\\\n",
    "\t\t\t\t\t\t.filter(R.airline_id == airline_id)\\\n",
    "\t\t\t\t\t\t.filter( and_((R.origin_id == origin_id),(R.dest_id == destination_id)) )\\\n",
    "\t\t\t\t\t\t.with_entities(func.sum(R.seats))\\\n",
    "\t\t\t\t\t\t.group_by(R.month)\\\n",
    "\t\t\t\t\t\t.order_by(R.month).all()\n",
    "\n",
    "\t\tseatsreverse = R.query\\\n",
    "\t\t\t\t\t\t.filter(R.airline_id == airline_id)\\\n",
    "\t\t\t\t\t\t.filter( and_((R.origin_id == destination_id),(R.dest_id == origin_id)) )\\\n",
    "\t\t\t\t\t\t.with_entities(func.sum(R.seats))\\\n",
    "\t\t\t\t\t\t.group_by(R.month)\\\n",
    "\t\t\t\t\t\t.order_by(R.month).all()"
   ]
  },
  {
   "cell_type": "code",
   "execution_count": 40,
   "metadata": {},
   "outputs": [],
   "source": [
    "\t\tflights = R.query\\\n",
    "\t\t\t\t\t\t.filter(R.airline_id == airline_id)\\\n",
    "\t\t\t\t\t\t.filter( and_((R.origin_id == origin_id),(R.dest_id == destination_id)) )\\\n",
    "\t\t\t\t\t\t.with_entities(func.sum(R.departures))\\\n",
    "\t\t\t\t\t\t.group_by(R.month)\\\n",
    "\t\t\t\t\t\t.order_by(R.month).all()\n",
    "\n",
    "\t\tflightsreverse = R.query\\\n",
    "\t\t\t\t\t\t.filter(R.airline_id == airline_id)\\\n",
    "\t\t\t\t\t\t.filter( and_((R.origin_id == destination_id),(R.dest_id == origin_id)) )\\\n",
    "\t\t\t\t\t\t.with_entities(func.sum(R.departures))\\\n",
    "\t\t\t\t\t\t.group_by(R.month)\\\n",
    "\t\t\t\t\t\t.order_by(R.month).all()"
   ]
  },
  {
   "cell_type": "code",
   "execution_count": 41,
   "metadata": {},
   "outputs": [
    {
     "data": {
      "text/plain": [
       "[(1111), (844), (820), (1113), (565), (655)]"
      ]
     },
     "execution_count": 41,
     "metadata": {},
     "output_type": "execute_result"
    }
   ],
   "source": [
    "pax"
   ]
  },
  {
   "cell_type": "code",
   "execution_count": 69,
   "metadata": {},
   "outputs": [
    {
     "data": {
      "text/plain": [
       "'5,108'"
      ]
     },
     "execution_count": 69,
     "metadata": {},
     "output_type": "execute_result"
    }
   ],
   "source": [
    "\"{:,.0f}\".format(sum(i for i, in pax))"
   ]
  },
  {
   "cell_type": "code",
   "execution_count": 43,
   "metadata": {},
   "outputs": [
    {
     "data": {
      "text/plain": [
       "5363"
      ]
     },
     "execution_count": 43,
     "metadata": {},
     "output_type": "execute_result"
    }
   ],
   "source": [
    "sum(i for i, in paxreverse)"
   ]
  },
  {
   "cell_type": "code",
   "execution_count": 44,
   "metadata": {},
   "outputs": [],
   "source": [
    "yearly_passengers = sum(i for i, in pax + paxreverse)\n",
    "yearly_seats = sum(i for i, in seats + seatsreverse)\n",
    "yearly_loadfactor = \"{0:.1%}\".format(float(yearly_passengers) / float(yearly_seats))"
   ]
  },
  {
   "cell_type": "code",
   "execution_count": 45,
   "metadata": {},
   "outputs": [
    {
     "name": "stdout",
     "output_type": "stream",
     "text": [
      "10471\n"
     ]
    }
   ],
   "source": [
    "print(yearly_passengers)"
   ]
  },
  {
   "cell_type": "code",
   "execution_count": 46,
   "metadata": {},
   "outputs": [
    {
     "name": "stdout",
     "output_type": "stream",
     "text": [
      "12600\n"
     ]
    }
   ],
   "source": [
    "print(yearly_seats)"
   ]
  },
  {
   "cell_type": "code",
   "execution_count": 47,
   "metadata": {},
   "outputs": [
    {
     "name": "stdout",
     "output_type": "stream",
     "text": [
      "83.1%\n"
     ]
    }
   ],
   "source": [
    "print(yearly_loadfactor)"
   ]
  },
  {
   "cell_type": "code",
   "execution_count": 66,
   "metadata": {},
   "outputs": [],
   "source": [
    "yearly_flights = sum(i for i, in flights + flightsreverse)\n",
    "seats_per_flight = \"{0:.1f}\".format(float(yearly_seats) / float(yearly_flights))\n",
    "passengers_per_flight = \"{0:.1f}\".format(float(yearly_passengers) / float(yearly_flights))"
   ]
  },
  {
   "cell_type": "code",
   "execution_count": 67,
   "metadata": {},
   "outputs": [
    {
     "name": "stdout",
     "output_type": "stream",
     "text": [
      "252.0\n",
      "209.4\n"
     ]
    }
   ],
   "source": [
    "print( seats_per_flight )\n",
    "print( passengers_per_flight )"
   ]
  },
  {
   "cell_type": "code",
   "execution_count": null,
   "metadata": {},
   "outputs": [],
   "source": []
  }
 ],
 "metadata": {
  "kernelspec": {
   "display_name": "Python [conda env:flaskonda]",
   "language": "python",
   "name": "conda-env-flaskonda-py"
  },
  "language_info": {
   "codemirror_mode": {
    "name": "ipython",
    "version": 3
   },
   "file_extension": ".py",
   "mimetype": "text/x-python",
   "name": "python",
   "nbconvert_exporter": "python",
   "pygments_lexer": "ipython3",
   "version": "3.6.6"
  }
 },
 "nbformat": 4,
 "nbformat_minor": 2
}
