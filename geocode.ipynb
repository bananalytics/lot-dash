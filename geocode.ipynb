{
 "cells": [
  {
   "cell_type": "code",
   "execution_count": 1,
   "metadata": {},
   "outputs": [
    {
     "name": "stdout",
     "output_type": "stream",
     "text": [
      "41.9779849 -87.9093214054785\n"
     ]
    }
   ],
   "source": [
    "import geocoder\n",
    "\n",
    "import geocoder\n",
    "g = geocoder.osm('ORD Chicago, IL airport')\n",
    "g.json\n",
    "print( g.lat, g.lng)"
   ]
  },
  {
   "cell_type": "code",
   "execution_count": 2,
   "metadata": {},
   "outputs": [
    {
     "name": "stderr",
     "output_type": "stream",
     "text": [
      "/Users/Filip/code/python/miniconda3/envs/flaskonda/lib/python3.6/site-packages/psycopg2/__init__.py:144: UserWarning: The psycopg2 wheel package will be renamed from release 2.8; in order to keep installing from binary please use \"pip install psycopg2-binary\" instead. For details see: <http://initd.org/psycopg/docs/install.html#binary-install-from-pypi>.\n",
      "  \"\"\")\n"
     ]
    }
   ],
   "source": [
    "from sqlalchemy import create_engine\n",
    "from sqlalchemy.orm import sessionmaker\n",
    "\n",
    "from app.models import Airport, AirportGEO\n",
    "\n",
    "# engine = create_engine('sqlite:////Users/Filip/code/python/lot-dash/app.db')\n",
    "engine = create_engine('postgresql://localhost/lotdash_dev')\n",
    "\n",
    "DBSession = sessionmaker(bind=engine)\n",
    "session = DBSession()\n"
   ]
  },
  {
   "cell_type": "code",
   "execution_count": 3,
   "metadata": {},
   "outputs": [],
   "source": [
    "airports = Airport.query.all()"
   ]
  },
  {
   "cell_type": "code",
   "execution_count": 5,
   "metadata": {},
   "outputs": [
    {
     "name": "stdout",
     "output_type": "stream",
     "text": [
      "Checking EWR\n",
      "Inserting id: 1 lat: 40.68906405 lng: -74.1772548503535\n",
      "Checking WAW\n",
      "Inserting id: 2 lat: 52.1629699 lng: 20.9702899716698\n",
      "Checking JFK\n",
      "Inserting id: 3 lat: 40.6429479 lng: -73.7793733748521\n",
      "Checking KRK\n",
      "Inserting id: 4 lat: 50.0782553 lng: 19.7862537676033\n",
      "Checking ORD\n",
      "Inserting id: 5 lat: 41.9779849 lng: -87.9093214054785\n",
      "Checking LAX\n",
      "Inserting id: 6 lat: 33.94211345 lng: -118.407057390248\n",
      "Checking ANC\n",
      "Inserting id: 7 lat: 61.1809641 lng: -149.985339451595\n",
      "Checking DTW\n",
      "Inserting id: 8 lat: 42.2167479 lng: -83.3531141628688\n",
      "Checking CDB\n",
      "Inserting id: 9 lat: 55.1992323 lng: -162.7200372\n",
      "Checking IAD\n",
      "Inserting id: 10 lat: 38.9522097 lng: -77.4534242937754\n",
      "Checking EWK\n",
      "Inserting id: 11 lat: 38.0552891 lng: -97.2778125\n",
      "Checking RZE\n",
      "Inserting id: 12 lat: 50.11148165 lng: 22.018435906021\n",
      "Checking GDN\n",
      "Inserting id: 13 lat: 54.3761063 lng: 18.4748965994079\n",
      "Checking KTW\n",
      "Inserting id: 14 lat: 50.47532995 lng: 19.0779188517943\n",
      "Checking YHM\n",
      "Inserting id: 15 lat: 43.17084875 lng: -79.9275372155442\n",
      "Checking SNN\n",
      "Inserting id: 16 lat: 52.6996591 lng: -8.92076878259564\n",
      "Checking YYC\n",
      "Inserting id: 17 lat: 51.120751 lng: -114.010572342962\n"
     ]
    }
   ],
   "source": [
    "\n",
    "for i, airport in enumerate(airports):\n",
    "#     print ( string )\n",
    "    if AirportGEO.query.filter(AirportGEO.airport_id == airport.id).first():\n",
    "        print(\"Airport\", airport.code, \"exists\")\n",
    "        pass\n",
    "    else:\n",
    "        print(\"Checking\", airport.code)\n",
    "        string = airport.code + \" \" + airport.city_name + \" airport\"\n",
    "        g = geocoder.osm(string)\n",
    "        if g.lat is None:\n",
    "            string = airport.code + \" airport\"\n",
    "            g = geocoder.osm(string)\n",
    "        print(\"Inserting id:\", airport.id, \"lat:\", g.lat, \"lng:\", g.lng)\n",
    "        new_geo = AirportGEO(airport_id=airport.id, lat=g.lat, lng=g.lng)\n",
    "        session.add(new_geo)\n",
    "        session.commit()\n",
    "    "
   ]
  },
  {
   "cell_type": "code",
   "execution_count": null,
   "metadata": {},
   "outputs": [],
   "source": [
    "geocoder.osm(\"Brooksville, FL airport\")"
   ]
  },
  {
   "cell_type": "markdown",
   "metadata": {},
   "source": [
    "Checking JZQ\n",
    "Inserting id: 432 lat: None lng: None"
   ]
  },
  {
   "cell_type": "code",
   "execution_count": 7,
   "metadata": {},
   "outputs": [
    {
     "data": {
      "text/plain": [
       "414"
      ]
     },
     "execution_count": 7,
     "metadata": {},
     "output_type": "execute_result"
    }
   ],
   "source": [
    "airports[413].id"
   ]
  },
  {
   "cell_type": "code",
   "execution_count": null,
   "metadata": {},
   "outputs": [],
   "source": [
    "there are duplicates which I need to remove."
   ]
  }
 ],
 "metadata": {
  "kernelspec": {
   "display_name": "Python [conda env:flaskonda]",
   "language": "python",
   "name": "conda-env-flaskonda-py"
  },
  "language_info": {
   "codemirror_mode": {
    "name": "ipython",
    "version": 3
   },
   "file_extension": ".py",
   "mimetype": "text/x-python",
   "name": "python",
   "nbconvert_exporter": "python",
   "pygments_lexer": "ipython3",
   "version": "3.6.6"
  }
 },
 "nbformat": 4,
 "nbformat_minor": 2
}
